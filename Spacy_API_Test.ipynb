{
 "cells": [
  {
   "cell_type": "markdown",
   "id": "2d7b2b24",
   "metadata": {},
   "source": [
    "# Testing of REST ful API to request Spacy Entities data. "
   ]
  },
  {
   "cell_type": "markdown",
   "id": "0d91a5f6",
   "metadata": {},
   "source": [
    "# Before testing please make sure flask api is installed and server has started successfully"
   ]
  },
  {
   "cell_type": "code",
   "execution_count": 1,
   "id": "b6dbc233",
   "metadata": {},
   "outputs": [],
   "source": [
    "import requests\n",
    "import json"
   ]
  },
  {
   "cell_type": "markdown",
   "id": "a17b806f",
   "metadata": {},
   "source": [
    "# Define end points for API resources"
   ]
  },
  {
   "cell_type": "code",
   "execution_count": 55,
   "id": "charming-chemistry",
   "metadata": {},
   "outputs": [],
   "source": [
    "#Currently running on local machine 127.0.0.1\n",
    "analyzetextendpoint = \"http://127.0.0.1:5000/analyzetext/\"\n",
    "\n",
    "#following resource is not implemented for future feature implemenation to read text from a file\n",
    "analysefileendpoint = \"http://127.0.0.1:5000/analyzefile/\"\n"
   ]
  },
  {
   "cell_type": "markdown",
   "id": "ea9ce898",
   "metadata": {},
   "source": [
    "# Set InputText before running cells."
   ]
  },
  {
   "cell_type": "code",
   "execution_count": 56,
   "id": "6175245f",
   "metadata": {},
   "outputs": [],
   "source": [
    "#Bad text example - no entities found that matched defined spacy NLP rules- generating error on API\n",
    "InputText = \"XERCGRY%^!-ZQ\"\n",
    "#good text example returning Json response with Named entities object\n",
    "InputText =  \"Apple is looking at buying U.K. startup for $1 billion\""
   ]
  },
  {
   "cell_type": "markdown",
   "id": "d569489d",
   "metadata": {},
   "source": [
    "# Call API and display output"
   ]
  },
  {
   "cell_type": "code",
   "execution_count": 52,
   "id": "98651472",
   "metadata": {},
   "outputs": [
    {
     "name": "stdout",
     "output_type": "stream",
     "text": [
      "{\"ORG\":\"Apple\",\"GPE\":\"U.K.\",\"MONEY\":\"$1 billion\"}\n"
     ]
    }
   ],
   "source": [
    "APIresponse = requests.post(analyzetextendpoint + InputText)\n",
    "\n",
    "print(APIresponse.json())"
   ]
  }
 ],
 "metadata": {
  "kernelspec": {
   "display_name": "Python 3 (ipykernel)",
   "language": "python",
   "name": "python3"
  },
  "language_info": {
   "codemirror_mode": {
    "name": "ipython",
    "version": 3
   },
   "file_extension": ".py",
   "mimetype": "text/x-python",
   "name": "python",
   "nbconvert_exporter": "python",
   "pygments_lexer": "ipython3",
   "version": "3.7.7"
  }
 },
 "nbformat": 4,
 "nbformat_minor": 5
}
